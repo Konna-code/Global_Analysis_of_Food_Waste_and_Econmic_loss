{
 "cells": [
  {
   "cell_type": "markdown",
   "id": "1a2672f7-44d3-449d-a793-3cd2ea4e9a85",
   "metadata": {},
   "source": [
    "# Index\n",
    "1. Libraries\n",
    "2. Data Sets\n",
    "3. Data Cleaning\n",
    "4. Data Exploration\n",
    "5. Data Export\n"
   ]
  },
  {
   "cell_type": "markdown",
   "id": "9ad41fc6-2f50-4833-8799-889fc3980dcb",
   "metadata": {},
   "source": [
    "## 01 Libraries"
   ]
  },
  {
   "cell_type": "code",
   "execution_count": 4,
   "id": "c735a67a-e92c-497a-9a51-b94050778aa1",
   "metadata": {},
   "outputs": [],
   "source": [
    "# Import Libraries\n",
    "import pandas as pd\n",
    "import numpy as np\n",
    "import os"
   ]
  },
  {
   "cell_type": "markdown",
   "id": "d0f50170-1ec6-4122-a631-4cbcf8803996",
   "metadata": {},
   "source": [
    "## 02 Data Sets "
   ]
  },
  {
   "cell_type": "code",
   "execution_count": 6,
   "id": "339e0509-faad-47bd-b054-e0abe9e6e18b",
   "metadata": {},
   "outputs": [],
   "source": [
    "# creating a path\n",
    "path=r'/Users/konstant/Documents/Achievement 6 - Advanced Analytics and Dashboard design'"
   ]
  },
  {
   "cell_type": "code",
   "execution_count": 7,
   "id": "90087a60-85a4-44ad-9f4b-39008eee979f",
   "metadata": {},
   "outputs": [],
   "source": [
    "#Importing data set\n",
    "df= pd.read_csv(os.path.join(path,'02 Data','Original Data','food_wastage_original.csv'),index_col = False)\n"
   ]
  },
  {
   "cell_type": "code",
   "execution_count": 8,
   "id": "bbabf41e-d615-47e0-b1cb-daac707b38d4",
   "metadata": {},
   "outputs": [],
   "source": [
    "# checking the columns"
   ]
  },
  {
   "cell_type": "code",
   "execution_count": 9,
   "id": "8c6029e6-1ec9-4767-b9b8-369c682d1e14",
   "metadata": {},
   "outputs": [
    {
     "data": {
      "text/plain": [
       "['Country',\n",
       " 'Year',\n",
       " 'Food Category',\n",
       " 'Total Waste (Tons)',\n",
       " 'Economic Loss (Million $)',\n",
       " 'Avg Waste per Capita (Kg)',\n",
       " 'Population (Million)',\n",
       " 'Household Waste (%)']"
      ]
     },
     "execution_count": 9,
     "metadata": {},
     "output_type": "execute_result"
    }
   ],
   "source": [
    "df.columns.tolist()"
   ]
  },
  {
   "cell_type": "code",
   "execution_count": 10,
   "id": "8b680f8c-7215-4d22-9e65-1f000a25f6e2",
   "metadata": {},
   "outputs": [],
   "source": [
    "# checkign the info of the data frame"
   ]
  },
  {
   "cell_type": "code",
   "execution_count": 11,
   "id": "931d0d4f-766a-4449-93d6-b7d46707ba39",
   "metadata": {},
   "outputs": [
    {
     "name": "stdout",
     "output_type": "stream",
     "text": [
      "<class 'pandas.core.frame.DataFrame'>\n",
      "RangeIndex: 5000 entries, 0 to 4999\n",
      "Data columns (total 8 columns):\n",
      " #   Column                     Non-Null Count  Dtype  \n",
      "---  ------                     --------------  -----  \n",
      " 0   Country                    5000 non-null   object \n",
      " 1   Year                       5000 non-null   int64  \n",
      " 2   Food Category              5000 non-null   object \n",
      " 3   Total Waste (Tons)         5000 non-null   float64\n",
      " 4   Economic Loss (Million $)  5000 non-null   float64\n",
      " 5   Avg Waste per Capita (Kg)  5000 non-null   float64\n",
      " 6   Population (Million)       5000 non-null   float64\n",
      " 7   Household Waste (%)        5000 non-null   float64\n",
      "dtypes: float64(5), int64(1), object(2)\n",
      "memory usage: 312.6+ KB\n"
     ]
    }
   ],
   "source": [
    "df.info()"
   ]
  },
  {
   "cell_type": "markdown",
   "id": "b41bc2e0-e51b-4e4b-a924-2942a1756997",
   "metadata": {},
   "source": [
    "## 03 Data Cleaning"
   ]
  },
  {
   "cell_type": "code",
   "execution_count": 13,
   "id": "b5114254-e9d3-4960-88bf-4513f649da3f",
   "metadata": {},
   "outputs": [],
   "source": [
    "# checking for mixed data types"
   ]
  },
  {
   "cell_type": "code",
   "execution_count": 14,
   "id": "1b253cd6-97e7-427f-8ddc-41a4ff160847",
   "metadata": {},
   "outputs": [],
   "source": [
    "for col in df.columns.tolist():\n",
    "  weird = (df[[col]].map(type) != df[[col]].iloc[0].apply(type)).any(axis = 1)\n",
    "  if len (df[weird]) > 0:\n",
    "    print (col)"
   ]
  },
  {
   "cell_type": "code",
   "execution_count": 15,
   "id": "189fc537-88fd-4e9f-8714-912ca9000b58",
   "metadata": {},
   "outputs": [],
   "source": [
    "# No results indicate no mixed data types in the columns"
   ]
  },
  {
   "cell_type": "code",
   "execution_count": 16,
   "id": "fb87bb4c-edd3-4ecb-bdbc-656982b68389",
   "metadata": {},
   "outputs": [],
   "source": [
    "# Now checking for missing values"
   ]
  },
  {
   "cell_type": "code",
   "execution_count": 17,
   "id": "bcb13cca-0886-4949-912c-6d6904f3e5ce",
   "metadata": {},
   "outputs": [
    {
     "data": {
      "text/plain": [
       "Country                      0\n",
       "Year                         0\n",
       "Food Category                0\n",
       "Total Waste (Tons)           0\n",
       "Economic Loss (Million $)    0\n",
       "Avg Waste per Capita (Kg)    0\n",
       "Population (Million)         0\n",
       "Household Waste (%)          0\n",
       "dtype: int64"
      ]
     },
     "execution_count": 17,
     "metadata": {},
     "output_type": "execute_result"
    }
   ],
   "source": [
    "df.isnull().sum()"
   ]
  },
  {
   "cell_type": "code",
   "execution_count": 18,
   "id": "94479f8f-1d62-482a-bd27-d322b9b4512f",
   "metadata": {},
   "outputs": [],
   "source": [
    "# Now checking for duplicates"
   ]
  },
  {
   "cell_type": "code",
   "execution_count": 19,
   "id": "ceb9d55a-dcf4-436c-838b-8b99700d3231",
   "metadata": {},
   "outputs": [],
   "source": [
    "# Fist create a subset then check duplicates\n",
    "df_dups=df[df.duplicated()]"
   ]
  },
  {
   "cell_type": "code",
   "execution_count": 20,
   "id": "a80391c4-91ca-45c9-ae54-713823c07c44",
   "metadata": {
    "jupyter": {
     "source_hidden": true
    }
   },
   "outputs": [],
   "source": [
    "# No output indicates no true duplicates"
   ]
  },
  {
   "cell_type": "code",
   "execution_count": 21,
   "id": "5eb70c51-8f3d-4dae-ad78-4f66ce5735d6",
   "metadata": {},
   "outputs": [],
   "source": [
    "# While exploring the data, it was noticed that some contries contained the multiple entries of food catgeory for the same year. \n",
    "# The code below is used to aggregate the data to give only 1 row per combination of country, year and food category."
   ]
  },
  {
   "cell_type": "code",
   "execution_count": 22,
   "id": "4aa9f34f-1487-4f77-bba0-f60db8e604d6",
   "metadata": {},
   "outputs": [
    {
     "data": {
      "text/plain": [
       "(5000, 8)"
      ]
     },
     "execution_count": 22,
     "metadata": {},
     "output_type": "execute_result"
    }
   ],
   "source": [
    "df.shape"
   ]
  },
  {
   "cell_type": "code",
   "execution_count": 23,
   "id": "770bde37-486e-498a-80f9-697606b9cfd5",
   "metadata": {},
   "outputs": [],
   "source": [
    "aggregated_df = df.groupby(['Country', 'Year', 'Food Category'], as_index=False).agg({\n",
    "    'Total Waste (Tons)': 'sum',\n",
    "    'Economic Loss (Million $)': 'sum',\n",
    "    'Avg Waste per Capita (Kg)': 'mean',\n",
    "    'Population (Million)': 'mean',\n",
    "    'Household Waste (%)': 'mean'})"
   ]
  },
  {
   "cell_type": "code",
   "execution_count": 24,
   "id": "84e20768-7527-4c6e-a954-cd5ae1e92439",
   "metadata": {},
   "outputs": [
    {
     "data": {
      "text/plain": [
       "(1106, 8)"
      ]
     },
     "execution_count": 24,
     "metadata": {},
     "output_type": "execute_result"
    }
   ],
   "source": [
    "aggregated_df.shape"
   ]
  },
  {
   "cell_type": "markdown",
   "id": "c3f9a603-d8fd-4d87-83d7-b1539b7ac751",
   "metadata": {},
   "source": [
    "## 04 Data Exploration"
   ]
  },
  {
   "cell_type": "code",
   "execution_count": 26,
   "id": "31bbb2f1-d68d-4b29-a4c6-4415601cd9e6",
   "metadata": {},
   "outputs": [],
   "source": [
    "# Basic descriptive statistics"
   ]
  },
  {
   "cell_type": "code",
   "execution_count": 27,
   "id": "f598945e-803f-4f25-bd26-6b848480e362",
   "metadata": {},
   "outputs": [
    {
     "data": {
      "text/html": [
       "<div>\n",
       "<style scoped>\n",
       "    .dataframe tbody tr th:only-of-type {\n",
       "        vertical-align: middle;\n",
       "    }\n",
       "\n",
       "    .dataframe tbody tr th {\n",
       "        vertical-align: top;\n",
       "    }\n",
       "\n",
       "    .dataframe thead th {\n",
       "        text-align: right;\n",
       "    }\n",
       "</style>\n",
       "<table border=\"1\" class=\"dataframe\">\n",
       "  <thead>\n",
       "    <tr style=\"text-align: right;\">\n",
       "      <th></th>\n",
       "      <th>Year</th>\n",
       "      <th>Total Waste (Tons)</th>\n",
       "      <th>Economic Loss (Million $)</th>\n",
       "      <th>Avg Waste per Capita (Kg)</th>\n",
       "      <th>Population (Million)</th>\n",
       "      <th>Household Waste (%)</th>\n",
       "    </tr>\n",
       "  </thead>\n",
       "  <tbody>\n",
       "    <tr>\n",
       "      <th>count</th>\n",
       "      <td>1106.00</td>\n",
       "      <td>1106.00</td>\n",
       "      <td>1106.00</td>\n",
       "      <td>1106.00</td>\n",
       "      <td>1106.00</td>\n",
       "      <td>1106.00</td>\n",
       "    </tr>\n",
       "    <tr>\n",
       "      <th>mean</th>\n",
       "      <td>2021.00</td>\n",
       "      <td>113299.19</td>\n",
       "      <td>113199.38</td>\n",
       "      <td>109.54</td>\n",
       "      <td>705.68</td>\n",
       "      <td>50.07</td>\n",
       "    </tr>\n",
       "    <tr>\n",
       "      <th>std</th>\n",
       "      <td>2.00</td>\n",
       "      <td>59814.80</td>\n",
       "      <td>60418.03</td>\n",
       "      <td>27.19</td>\n",
       "      <td>213.37</td>\n",
       "      <td>6.07</td>\n",
       "    </tr>\n",
       "    <tr>\n",
       "      <th>min</th>\n",
       "      <td>2018.00</td>\n",
       "      <td>1831.93</td>\n",
       "      <td>1767.05</td>\n",
       "      <td>22.08</td>\n",
       "      <td>23.06</td>\n",
       "      <td>30.59</td>\n",
       "    </tr>\n",
       "    <tr>\n",
       "      <th>25%</th>\n",
       "      <td>2019.00</td>\n",
       "      <td>68940.69</td>\n",
       "      <td>68629.23</td>\n",
       "      <td>92.24</td>\n",
       "      <td>574.91</td>\n",
       "      <td>46.36</td>\n",
       "    </tr>\n",
       "    <tr>\n",
       "      <th>50%</th>\n",
       "      <td>2021.00</td>\n",
       "      <td>107002.42</td>\n",
       "      <td>105021.51</td>\n",
       "      <td>109.57</td>\n",
       "      <td>705.29</td>\n",
       "      <td>50.17</td>\n",
       "    </tr>\n",
       "    <tr>\n",
       "      <th>75%</th>\n",
       "      <td>2023.00</td>\n",
       "      <td>151050.18</td>\n",
       "      <td>150708.82</td>\n",
       "      <td>126.09</td>\n",
       "      <td>837.21</td>\n",
       "      <td>53.91</td>\n",
       "    </tr>\n",
       "    <tr>\n",
       "      <th>max</th>\n",
       "      <td>2024.00</td>\n",
       "      <td>353377.86</td>\n",
       "      <td>356290.34</td>\n",
       "      <td>198.83</td>\n",
       "      <td>1395.67</td>\n",
       "      <td>69.17</td>\n",
       "    </tr>\n",
       "  </tbody>\n",
       "</table>\n",
       "</div>"
      ],
      "text/plain": [
       "         Year  Total Waste (Tons)  Economic Loss (Million $)  \\\n",
       "count 1106.00             1106.00                    1106.00   \n",
       "mean  2021.00           113299.19                  113199.38   \n",
       "std      2.00            59814.80                   60418.03   \n",
       "min   2018.00             1831.93                    1767.05   \n",
       "25%   2019.00            68940.69                   68629.23   \n",
       "50%   2021.00           107002.42                  105021.51   \n",
       "75%   2023.00           151050.18                  150708.82   \n",
       "max   2024.00           353377.86                  356290.34   \n",
       "\n",
       "       Avg Waste per Capita (Kg)  Population (Million)  Household Waste (%)  \n",
       "count                    1106.00               1106.00              1106.00  \n",
       "mean                      109.54                705.68                50.07  \n",
       "std                        27.19                213.37                 6.07  \n",
       "min                        22.08                 23.06                30.59  \n",
       "25%                        92.24                574.91                46.36  \n",
       "50%                       109.57                705.29                50.17  \n",
       "75%                       126.09                837.21                53.91  \n",
       "max                       198.83               1395.67                69.17  "
      ]
     },
     "execution_count": 27,
     "metadata": {},
     "output_type": "execute_result"
    }
   ],
   "source": [
    "aggregated_df.describe(pd.set_option('display.float_format', '{:.2f}'.format))"
   ]
  },
  {
   "cell_type": "code",
   "execution_count": 28,
   "id": "b42e0cd9-0276-4271-9365-8e9e14239cb6",
   "metadata": {},
   "outputs": [],
   "source": [
    "# checking the data frame headings"
   ]
  },
  {
   "cell_type": "code",
   "execution_count": 29,
   "id": "e4d820d9-20d2-4d4a-83d0-94fff59eedc0",
   "metadata": {},
   "outputs": [
    {
     "data": {
      "text/html": [
       "<div>\n",
       "<style scoped>\n",
       "    .dataframe tbody tr th:only-of-type {\n",
       "        vertical-align: middle;\n",
       "    }\n",
       "\n",
       "    .dataframe tbody tr th {\n",
       "        vertical-align: top;\n",
       "    }\n",
       "\n",
       "    .dataframe thead th {\n",
       "        text-align: right;\n",
       "    }\n",
       "</style>\n",
       "<table border=\"1\" class=\"dataframe\">\n",
       "  <thead>\n",
       "    <tr style=\"text-align: right;\">\n",
       "      <th></th>\n",
       "      <th>Country</th>\n",
       "      <th>Year</th>\n",
       "      <th>Food Category</th>\n",
       "      <th>Total Waste (Tons)</th>\n",
       "      <th>Economic Loss (Million $)</th>\n",
       "      <th>Avg Waste per Capita (Kg)</th>\n",
       "      <th>Population (Million)</th>\n",
       "      <th>Household Waste (%)</th>\n",
       "    </tr>\n",
       "  </thead>\n",
       "  <tbody>\n",
       "    <tr>\n",
       "      <th>0</th>\n",
       "      <td>Argentina</td>\n",
       "      <td>2018</td>\n",
       "      <td>Bakery Items</td>\n",
       "      <td>72290.69</td>\n",
       "      <td>71749.94</td>\n",
       "      <td>60.37</td>\n",
       "      <td>528.20</td>\n",
       "      <td>59.03</td>\n",
       "    </tr>\n",
       "    <tr>\n",
       "      <th>1</th>\n",
       "      <td>Argentina</td>\n",
       "      <td>2018</td>\n",
       "      <td>Beverages</td>\n",
       "      <td>127249.21</td>\n",
       "      <td>128791.57</td>\n",
       "      <td>131.80</td>\n",
       "      <td>525.78</td>\n",
       "      <td>37.18</td>\n",
       "    </tr>\n",
       "    <tr>\n",
       "      <th>2</th>\n",
       "      <td>Argentina</td>\n",
       "      <td>2018</td>\n",
       "      <td>Dairy Products</td>\n",
       "      <td>28971.41</td>\n",
       "      <td>25935.06</td>\n",
       "      <td>94.50</td>\n",
       "      <td>680.02</td>\n",
       "      <td>54.29</td>\n",
       "    </tr>\n",
       "    <tr>\n",
       "      <th>3</th>\n",
       "      <td>Argentina</td>\n",
       "      <td>2018</td>\n",
       "      <td>Frozen Food</td>\n",
       "      <td>78925.33</td>\n",
       "      <td>87757.40</td>\n",
       "      <td>123.78</td>\n",
       "      <td>991.53</td>\n",
       "      <td>62.29</td>\n",
       "    </tr>\n",
       "    <tr>\n",
       "      <th>4</th>\n",
       "      <td>Argentina</td>\n",
       "      <td>2018</td>\n",
       "      <td>Grains &amp; Cereals</td>\n",
       "      <td>152731.27</td>\n",
       "      <td>156398.00</td>\n",
       "      <td>122.70</td>\n",
       "      <td>676.60</td>\n",
       "      <td>53.57</td>\n",
       "    </tr>\n",
       "  </tbody>\n",
       "</table>\n",
       "</div>"
      ],
      "text/plain": [
       "     Country  Year     Food Category  Total Waste (Tons)  \\\n",
       "0  Argentina  2018      Bakery Items            72290.69   \n",
       "1  Argentina  2018         Beverages           127249.21   \n",
       "2  Argentina  2018    Dairy Products            28971.41   \n",
       "3  Argentina  2018       Frozen Food            78925.33   \n",
       "4  Argentina  2018  Grains & Cereals           152731.27   \n",
       "\n",
       "   Economic Loss (Million $)  Avg Waste per Capita (Kg)  Population (Million)  \\\n",
       "0                   71749.94                      60.37                528.20   \n",
       "1                  128791.57                     131.80                525.78   \n",
       "2                   25935.06                      94.50                680.02   \n",
       "3                   87757.40                     123.78                991.53   \n",
       "4                  156398.00                     122.70                676.60   \n",
       "\n",
       "   Household Waste (%)  \n",
       "0                59.03  \n",
       "1                37.18  \n",
       "2                54.29  \n",
       "3                62.29  \n",
       "4                53.57  "
      ]
     },
     "execution_count": 29,
     "metadata": {},
     "output_type": "execute_result"
    }
   ],
   "source": [
    "aggregated_df.head()"
   ]
  },
  {
   "cell_type": "markdown",
   "id": "8d1237a6-36e7-4439-9ab5-f621caa0b652",
   "metadata": {},
   "source": [
    "## 05. Data Export"
   ]
  },
  {
   "cell_type": "code",
   "execution_count": 31,
   "id": "8d407145-111b-490d-8596-107f9e4abd85",
   "metadata": {},
   "outputs": [],
   "source": [
    "# Exporting prepared data set as csv"
   ]
  },
  {
   "cell_type": "code",
   "execution_count": 32,
   "id": "501a273e-c8ed-46e7-8042-0eae3600946d",
   "metadata": {},
   "outputs": [],
   "source": [
    "aggregated_df.to_csv(os.path.join(path, '02 Data','Prepared Data', 'global_food_wastage_prepared.csv'))"
   ]
  },
  {
   "cell_type": "code",
   "execution_count": null,
   "id": "55f594b4-73cf-4470-b5b7-d9aeff8e7261",
   "metadata": {},
   "outputs": [],
   "source": []
  }
 ],
 "metadata": {
  "kernelspec": {
   "display_name": "Python [conda env:base] *",
   "language": "python",
   "name": "conda-base-py"
  },
  "language_info": {
   "codemirror_mode": {
    "name": "ipython",
    "version": 3
   },
   "file_extension": ".py",
   "mimetype": "text/x-python",
   "name": "python",
   "nbconvert_exporter": "python",
   "pygments_lexer": "ipython3",
   "version": "3.12.7"
  }
 },
 "nbformat": 4,
 "nbformat_minor": 5
}
